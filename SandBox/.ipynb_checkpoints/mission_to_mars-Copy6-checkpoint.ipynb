{
 "cells": [
  {
   "cell_type": "code",
   "execution_count": 1,
   "metadata": {},
   "outputs": [],
   "source": [
    "# Import Dependencies\n",
    "from splinter import Browser\n",
    "from bs4 import BeautifulSoup\n",
    "import pandas as pd"
   ]
  },
  {
   "cell_type": "code",
   "execution_count": 2,
   "metadata": {},
   "outputs": [],
   "source": [
    "import tweepy\n",
    "import json\n",
    "from config import (consumer_key, consumer_secret, \n",
    "                    access_token, access_token_secret)"
   ]
  },
  {
   "cell_type": "code",
   "execution_count": 3,
   "metadata": {},
   "outputs": [],
   "source": [
    "# Setup Tweepy API Authentication\n",
    "auth = tweepy.OAuthHandler(consumer_key, consumer_secret)\n",
    "auth.set_access_token(access_token, access_token_secret)\n",
    "api = tweepy.API(auth, parser=tweepy.parsers.JSONParser())"
   ]
  },
  {
   "cell_type": "code",
   "execution_count": 4,
   "metadata": {},
   "outputs": [],
   "source": [
    "def init_browser():\n",
    "    # @NOTE: Replace the path with your actual path to the chromedriver\n",
    "    executable_path = {\"executable_path\": \"chromedriver\"}\n",
    "    return Browser(\"chrome\", **executable_path, headless=False)"
   ]
  },
  {
   "cell_type": "code",
   "execution_count": 5,
   "metadata": {},
   "outputs": [],
   "source": [
    "def scrape():\n",
    "    # Initialize browser\n",
    "    browser = init_browser()\n",
    "    NASA_Mars_News = {}\n",
    "\n",
    "    ### NASA Mars News\n",
    "\n",
    "    # Visit the Mars Nasa site for news\n",
    "    url = 'https://mars.nasa.gov/news/'\n",
    "    \n",
    "    # Using url attribute to access the visited page’s url\n",
    "    browser.visit(url)\n",
    "\n",
    "    # Using the html attribute to get the html content of the visited page\n",
    "    html = browser.html\n",
    "    \n",
    "    # Quitting the browser \n",
    "    browser.quit()\n",
    "\n",
    "    MarsNewsData = BeautifulSoup(html, \"html.parser\")\n",
    "\n",
    "    Result = MarsNewsData.select_one('ul.item_list li.slide')\n",
    "\n",
    "    news_title = Result.find('div',class_=\"content_title\").text\n",
    "\n",
    "    news_p = Result.find('div',class_=\"article_teaser_body\").text\n",
    "\n",
    "    Mars_News_NASA = {'News_Title':news_title, 'News_Para': news_p }\n",
    "    \n",
    "    #print(Mars_News_NASA)\n",
    "    \n",
    "    return(Mars_News_NASA)"
   ]
  },
  {
   "cell_type": "code",
   "execution_count": 6,
   "metadata": {},
   "outputs": [
    {
     "name": "stdout",
     "output_type": "stream",
     "text": [
      "{'News_Title': \"NASA's InSight Passes Halfway to Mars, Instruments Check In\", 'News_Para': \"NASA's InSight spacecraft, en route to a Nov. 26 landing on Mars, passed the halfway mark on Aug. 6. All of its instruments have been tested and are working well.\"}\n"
     ]
    }
   ],
   "source": [
    "print(scrape())"
   ]
  },
  {
   "cell_type": "code",
   "execution_count": 40,
   "metadata": {},
   "outputs": [
    {
     "name": "stdout",
     "output_type": "stream",
     "text": [
      "[<div class=\"carousel_items\">\n",
      "<article alt=\"Curiosity's First Sample Drilling\" class=\"carousel_item\" style=\"background-image: url('/spaceimages/images/wallpaper/PIA16726-1920x1200.jpg');\">\n",
      "<div class=\"default floating_text_area ms-layer\">\n",
      "<h2 class=\"category_title\">\n",
      "</h2>\n",
      "<h2 class=\"brand_title\">\n",
      "\t\t\t\t  FEATURED IMAGE\n",
      "\t\t\t\t</h2>\n",
      "<h1 class=\"media_feature_title\">\n",
      "\t\t\t\t  Curiosity's First Sample Drilling\t\t\t\t</h1>\n",
      "<div class=\"description\">\n",
      "</div>\n",
      "<footer>\n",
      "<a class=\"button fancybox\" data-description=\"At the center of this image from NASA's Curiosity rover is the hole in a rock called 'John Klein' where the rover conducted its first sample drilling on Mars.\" data-fancybox-group=\"images\" data-fancybox-href=\"/spaceimages/images/mediumsize/PIA16726_ip.jpg\" data-link=\"/spaceimages/details.php?id=PIA16726\" data-title=\"Curiosity's First Sample Drilling\" id=\"full_image\">\n",
      "\t\t\t\t\tFULL IMAGE\n",
      "\t\t\t\t  </a>\n",
      "</footer>\n",
      "</div>\n",
      "<div class=\"gradient_container_top\"></div>\n",
      "<div class=\"gradient_container_bottom\"></div>\n",
      "</article>\n",
      "</div>]\n"
     ]
    }
   ],
   "source": [
    "# def scrape2():\n",
    "    ### JPL Mars Space Images - Featured Image\n",
    "\n",
    "browser = init_browser()\n",
    "\n",
    "# Visit jpl NASA site for the featured image\n",
    "url = 'https://www.jpl.nasa.gov/spaceimages/?search=&category=Mars'\n",
    "\n",
    " # Using url attribute to access the visited page’s url\n",
    "browser.visit(url)\n",
    "\n",
    "MarsImageData = BeautifulSoup(browser.html,\"html.parser\")\n",
    "\n",
    "# Quitting the browser \n",
    "browser.quit()\n",
    "\n",
    "Mars_Img_Art = MarsImageData.find_all('div',class_='carousel_items')\n",
    "#print(Mars_Img_Art)\n",
    "\n",
    "# for all in Mars_Img_Art:\n",
    "#     img = all.find_all('li',class_='slide')\n",
    "# for all in img:\n",
    "#     if 'Mars' in (all.a['data-description'].split()):\n",
    "#         image = all.a[\"data-fancybox-href\"]  \n",
    "\n",
    "# featured_image_url = 'https://www.jpl.nasa.gov'+ image\n",
    "\n",
    "#     Mars_Featured_Image_NASA = {\"Featured_Image_Url\": featured_image_url }\n",
    "    \n",
    "#     return(featured_image_url)"
   ]
  },
  {
   "cell_type": "code",
   "execution_count": 45,
   "metadata": {},
   "outputs": [],
   "source": [
    "# print(Mars_Img_Art)\n",
    "for each in Mars_Img_Art:\n",
    "#     print(each.find_all('a', class_='button fancybox'))\n",
    "    Marsimg=url+each.a['data-link']"
   ]
  },
  {
   "cell_type": "code",
   "execution_count": 48,
   "metadata": {},
   "outputs": [],
   "source": [
    "browser = init_browser()\n",
    "\n",
    "# Visit jpl NASA site for the featured image\n",
    "url = Marsimg\n",
    "\n",
    " # Using url attribute to access the visited page’s url\n",
    "browser.visit(url)\n",
    "\n",
    "MarsImageData = BeautifulSoup(browser.html,\"html.parser\")\n",
    "\n",
    "# Quitting the browser \n",
    "browser.quit()\n",
    "\n",
    "Mars_Img_Art = MarsImageData.find_all('div',class_='button-fancybox')"
   ]
  },
  {
   "cell_type": "code",
   "execution_count": 49,
   "metadata": {},
   "outputs": [
    {
     "name": "stdout",
     "output_type": "stream",
     "text": [
      "[]\n"
     ]
    }
   ],
   "source": [
    "print(Mars_Img_Art)"
   ]
  },
  {
   "cell_type": "code",
   "execution_count": 39,
   "metadata": {},
   "outputs": [
    {
     "name": "stdout",
     "output_type": "stream",
     "text": [
      "https://www.jpl.nasa.gov/spaceimages/?search=&category=Mars/spaceimages/details.php?id=PIA01322/spaceimages/details.php?id=PIA18358\n"
     ]
    }
   ],
   "source": [
    "for each in Mars_Img_Art:\n",
    "#     print(each.find_all('a', class_='button fancybox'))\n",
    "    print(url+each.a['data-link'])"
   ]
  },
  {
   "cell_type": "code",
   "execution_count": 8,
   "metadata": {
    "scrolled": false
   },
   "outputs": [
    {
     "name": "stdout",
     "output_type": "stream",
     "text": [
      "https://www.jpl.nasa.gov/spaceimages/images/largesize/PIA22597_hires.jpg\n"
     ]
    }
   ],
   "source": [
    "print(scrape2())"
   ]
  },
  {
   "cell_type": "code",
   "execution_count": 9,
   "metadata": {},
   "outputs": [],
   "source": [
    "def scrape3():\n",
    "\n",
    "    ### Mars Weather\n",
    "\n",
    "    # Target User Account\n",
    "    target_user = \"@MarsWxReport\"\n",
    "\n",
    "    # Get all tweets from home feed\n",
    "    public_tweets = api.user_timeline(target_user)\n",
    "\n",
    "    mars_weather = \"\"\n",
    "    flag = False\n",
    "\n",
    "    for tweet in public_tweets:\n",
    "        if flag == True:\n",
    "            mars_weather = tweet[\"text\"]\n",
    "            flag = False\n",
    "            break\n",
    "        else:  \n",
    "            if 'Sol' in tweet[\"text\"]:\n",
    "                flag = True\n",
    "\n",
    "    #print(mars_weather)\n",
    "    Mars_Weather_Twitter = {\"Mars_Twitter_Weather_News\":mars_weather}            \n",
    "    return(Mars_Weather_Twitter)"
   ]
  },
  {
   "cell_type": "code",
   "execution_count": 10,
   "metadata": {},
   "outputs": [
    {
     "name": "stdout",
     "output_type": "stream",
     "text": [
      "{'Mars_Twitter_Weather_News': 'Sol 2141 (2018-08-14), high -17C/1F, low -66C/-86F, pressure at 8.63 hPa, daylight 05:27-17:41'}\n"
     ]
    }
   ],
   "source": [
    "print(scrape3())"
   ]
  },
  {
   "cell_type": "code",
   "execution_count": null,
   "metadata": {},
   "outputs": [],
   "source": [
    "# def scrape4():\n",
    "    ### Mars Facts\n",
    "\n",
    "browser = init_browser()\n",
    "\n",
    "url = 'http://space-facts.com/mars/'\n",
    "\n",
    "browser.visit(url)\n",
    "\n",
    "MarsFactsData = BeautifulSoup(browser.html,\"html.parser\")\n",
    "\n",
    "browser.quit()\n",
    "\n",
    "MarsFactsData.find_all('table')\n",
    "\n",
    "Marstab = MarsFactsData.find_all('table')\n",
    "print(Marstab)"
   ]
  },
  {
   "cell_type": "code",
   "execution_count": 27,
   "metadata": {},
   "outputs": [],
   "source": [
    "df = pd.read_html(str(Marstab))"
   ]
  },
  {
   "cell_type": "code",
   "execution_count": 28,
   "metadata": {},
   "outputs": [
    {
     "data": {
      "text/plain": [
       "'<table border=\"1\" class=\"dataframe\">\\n  <thead>\\n    <tr style=\"text-align: right;\">\\n      <th></th>\\n      <th>Values</th>\\n    </tr>\\n    <tr>\\n      <th>0</th>\\n      <th></th>\\n    </tr>\\n  </thead>\\n  <tbody>\\n    <tr>\\n      <th>Equatorial Diameter:</th>\\n      <td>6,792 km</td>\\n    </tr>\\n    <tr>\\n      <th>Polar Diameter:</th>\\n      <td>6,752 km</td>\\n    </tr>\\n    <tr>\\n      <th>Mass:</th>\\n      <td>6.42 x 10^23 kg (10.7% Earth)</td>\\n    </tr>\\n    <tr>\\n      <th>Moons:</th>\\n      <td>2 (Phobos &amp; Deimos)</td>\\n    </tr>\\n    <tr>\\n      <th>Orbit Distance:</th>\\n      <td>227,943,824 km (1.52 AU)</td>\\n    </tr>\\n    <tr>\\n      <th>Orbit Period:</th>\\n      <td>687 days (1.9 years)</td>\\n    </tr>\\n    <tr>\\n      <th>Surface Temperature:</th>\\n      <td>-153 to 20 °C</td>\\n    </tr>\\n    <tr>\\n      <th>First Record:</th>\\n      <td>2nd millennium BC</td>\\n    </tr>\\n    <tr>\\n      <th>Recorded By:</th>\\n      <td>Egyptian astronomers</td>\\n    </tr>\\n  </tbody>\\n</table>'"
      ]
     },
     "execution_count": 28,
     "metadata": {},
     "output_type": "execute_result"
    }
   ],
   "source": [
    "df=df[0].set_index([0])\n",
    "df=df.rename(columns={1:\"Values\"})\n",
    "df.to_html()"
   ]
  },
  {
   "cell_type": "code",
   "execution_count": null,
   "metadata": {},
   "outputs": [],
   "source": [
    "#     print(df.to_html()) \n",
    "print(df[0].to_json(orient='records'))\n",
    "\n",
    "marsfactsdf = df[0]\n",
    "\n",
    "Mars_Facts_SpaceFacts = {\"Mars_Facts_Table\": marsfactsdf}\n",
    "\n",
    "return(Mars_Facts_SpaceFacts)"
   ]
  },
  {
   "cell_type": "code",
   "execution_count": 16,
   "metadata": {},
   "outputs": [
    {
     "name": "stdout",
     "output_type": "stream",
     "text": [
      "[<table class=\"tablepress tablepress-id-mars\" id=\"tablepress-mars\">\n",
      "<tbody>\n",
      "<tr class=\"row-1 odd\">\n",
      "<td class=\"column-1\"><strong>Equatorial Diameter:</strong></td><td class=\"column-2\">6,792 km<br/>\n",
      "</td>\n",
      "</tr>\n",
      "<tr class=\"row-2 even\">\n",
      "<td class=\"column-1\"><strong>Polar Diameter:</strong></td><td class=\"column-2\">6,752 km<br/>\n",
      "</td>\n",
      "</tr>\n",
      "<tr class=\"row-3 odd\">\n",
      "<td class=\"column-1\"><strong>Mass:</strong></td><td class=\"column-2\">6.42 x 10^23 kg (10.7% Earth)</td>\n",
      "</tr>\n",
      "<tr class=\"row-4 even\">\n",
      "<td class=\"column-1\"><strong>Moons:</strong></td><td class=\"column-2\">2 (<a href=\"https://space-facts.com/phobos/\">Phobos</a> &amp; <a href=\"https://space-facts.com/deimos/\">Deimos</a>)</td>\n",
      "</tr>\n",
      "<tr class=\"row-5 odd\">\n",
      "<td class=\"column-1\"><strong>Orbit Distance:</strong></td><td class=\"column-2\">227,943,824 km (1.52 AU)</td>\n",
      "</tr>\n",
      "<tr class=\"row-6 even\">\n",
      "<td class=\"column-1\"><strong>Orbit Period:</strong></td><td class=\"column-2\">687 days (1.9 years)<br/>\n",
      "</td>\n",
      "</tr>\n",
      "<tr class=\"row-7 odd\">\n",
      "<td class=\"column-1\"><strong>Surface Temperature: </strong></td><td class=\"column-2\">-153 to 20 °C</td>\n",
      "</tr>\n",
      "<tr class=\"row-8 even\">\n",
      "<td class=\"column-1\"><strong>First Record:</strong></td><td class=\"column-2\">2nd millennium BC</td>\n",
      "</tr>\n",
      "<tr class=\"row-9 odd\">\n",
      "<td class=\"column-1\"><strong>Recorded By:</strong></td><td class=\"column-2\">Egyptian astronomers</td>\n",
      "</tr>\n",
      "</tbody>\n",
      "</table>]\n",
      "[{\"0\":\"Equatorial Diameter:\",\"1\":\"6,792 km\"},{\"0\":\"Polar Diameter:\",\"1\":\"6,752 km\"},{\"0\":\"Mass:\",\"1\":\"6.42 x 10^23 kg (10.7% Earth)\"},{\"0\":\"Moons:\",\"1\":\"2 (Phobos & Deimos)\"},{\"0\":\"Orbit Distance:\",\"1\":\"227,943,824 km (1.52 AU)\"},{\"0\":\"Orbit Period:\",\"1\":\"687 days (1.9 years)\"},{\"0\":\"Surface Temperature:\",\"1\":\"-153 to 20 \\u00b0C\"},{\"0\":\"First Record:\",\"1\":\"2nd millennium BC\"},{\"0\":\"Recorded By:\",\"1\":\"Egyptian astronomers\"}]\n",
      "{'Mars_Facts_Table':                       0                              1\n",
      "0  Equatorial Diameter:                       6,792 km\n",
      "1       Polar Diameter:                       6,752 km\n",
      "2                 Mass:  6.42 x 10^23 kg (10.7% Earth)\n",
      "3                Moons:            2 (Phobos & Deimos)\n",
      "4       Orbit Distance:       227,943,824 km (1.52 AU)\n",
      "5         Orbit Period:           687 days (1.9 years)\n",
      "6  Surface Temperature:                  -153 to 20 °C\n",
      "7         First Record:              2nd millennium BC\n",
      "8          Recorded By:           Egyptian astronomers}\n"
     ]
    }
   ],
   "source": [
    "print(scrape4())"
   ]
  },
  {
   "cell_type": "code",
   "execution_count": 13,
   "metadata": {},
   "outputs": [],
   "source": [
    "### Mars Hemispheres\n",
    "\n",
    "browser = init_browser()\n",
    "\n",
    "url = 'https://astrogeology.usgs.gov/search/results?q=hemisphere+enhanced&k1=target&v1=Mars'\n",
    "\n",
    "browser.visit(url)\n",
    "\n",
    "html = browser.html\n",
    "\n",
    "browser.quit()\n",
    "\n",
    "MarsHemisphereImage = BeautifulSoup(html, \"html.parser\")\n",
    "\n",
    "# print(MarsHemisphereImage.prettify())"
   ]
  },
  {
   "cell_type": "code",
   "execution_count": 57,
   "metadata": {},
   "outputs": [],
   "source": [
    "Img4 = MarsHemisphereImage.find('div', class_='collapsible').find_all('a', class_='product-item')"
   ]
  },
  {
   "cell_type": "code",
   "execution_count": 58,
   "metadata": {},
   "outputs": [
    {
     "data": {
      "text/plain": [
       "8"
      ]
     },
     "execution_count": 58,
     "metadata": {},
     "output_type": "execute_result"
    }
   ],
   "source": [
    "len(Img4)"
   ]
  },
  {
   "cell_type": "code",
   "execution_count": 63,
   "metadata": {},
   "outputs": [
    {
     "data": {
      "text/plain": [
       "[{'title': 'Cerberus Hemisphere Enhanced',\n",
       "  'href': '/search/map/Mars/Viking/cerberus_enhanced'},\n",
       " {'title': 'Schiaparelli Hemisphere Enhanced',\n",
       "  'href': '/search/map/Mars/Viking/schiaparelli_enhanced'},\n",
       " {'title': 'Syrtis Major Hemisphere Enhanced',\n",
       "  'href': '/search/map/Mars/Viking/syrtis_major_enhanced'},\n",
       " {'title': 'Valles Marineris Hemisphere Enhanced',\n",
       "  'href': '/search/map/Mars/Viking/valles_marineris_enhanced'}]"
      ]
     },
     "execution_count": 63,
     "metadata": {},
     "output_type": "execute_result"
    }
   ],
   "source": [
    "index=0\n",
    "img=[]\n",
    "for item in Img4:\n",
    "    if index%2!=0:\n",
    "        it = {'title':item.find('h3').text,\n",
    "             'href':item.get('href')}\n",
    "        img.append(it)\n",
    "    index = index+1\n",
    "img"
   ]
  },
  {
   "cell_type": "code",
   "execution_count": null,
   "metadata": {},
   "outputs": [],
   "source": []
  },
  {
   "cell_type": "code",
   "execution_count": null,
   "metadata": {},
   "outputs": [],
   "source": []
  }
 ],
 "metadata": {
  "kernelspec": {
   "display_name": "Python 3",
   "language": "python",
   "name": "python3"
  },
  "language_info": {
   "codemirror_mode": {
    "name": "ipython",
    "version": 3
   },
   "file_extension": ".py",
   "mimetype": "text/x-python",
   "name": "python",
   "nbconvert_exporter": "python",
   "pygments_lexer": "ipython3",
   "version": "3.6.6"
  }
 },
 "nbformat": 4,
 "nbformat_minor": 2
}
