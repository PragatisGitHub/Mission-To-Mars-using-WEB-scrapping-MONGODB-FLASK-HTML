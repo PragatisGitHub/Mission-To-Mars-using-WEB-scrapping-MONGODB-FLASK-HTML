{
 "cells": [
  {
   "cell_type": "code",
   "execution_count": 7,
   "metadata": {},
   "outputs": [],
   "source": [
    "# Import Dependencies\n",
    "from splinter import Browser\n",
    "from bs4 import BeautifulSoup\n",
    "import pandas as pd"
   ]
  },
  {
   "cell_type": "code",
   "execution_count": 8,
   "metadata": {},
   "outputs": [],
   "source": [
    "import tweepy\n",
    "import json\n",
    "from config import (consumer_key, consumer_secret, \n",
    "                    access_token, access_token_secret)"
   ]
  },
  {
   "cell_type": "code",
   "execution_count": 9,
   "metadata": {},
   "outputs": [],
   "source": [
    "# Setup Tweepy API Authentication\n",
    "auth = tweepy.OAuthHandler(consumer_key, consumer_secret)\n",
    "auth.set_access_token(access_token, access_token_secret)\n",
    "api = tweepy.API(auth, parser=tweepy.parsers.JSONParser())"
   ]
  },
  {
   "cell_type": "code",
   "execution_count": 10,
   "metadata": {},
   "outputs": [],
   "source": [
    "def init_browser():\n",
    "    # @NOTE: Replace the path with your actual path to the chromedriver\n",
    "    executable_path = {\"executable_path\": \"chromedriver\"}\n",
    "    return Browser(\"chrome\", **executable_path, headless=False)"
   ]
  },
  {
   "cell_type": "code",
   "execution_count": 22,
   "metadata": {},
   "outputs": [],
   "source": [
    "def scrape():\n",
    "    # Initialize browser\n",
    "    browser = init_browser()\n",
    "    NASA_Mars_News = {}\n",
    "\n",
    "    ### NASA Mars News\n",
    "\n",
    "    # Visit the Mars Nasa site for news\n",
    "    url = 'https://mars.nasa.gov/news/'\n",
    "    \n",
    "    # Using url attribute to access the visited page’s url\n",
    "    browser.visit(url)\n",
    "\n",
    "    # Using the html attribute to get the html content of the visited page\n",
    "    html = browser.html\n",
    "    \n",
    "    # Quitting the browser \n",
    "    browser.quit()\n",
    "\n",
    "    MarsNewsData = BeautifulSoup(html, \"html.parser\")\n",
    "\n",
    "    Result = MarsNewsData.select_one('ul.item_list li.slide')\n",
    "\n",
    "    news_title = Result.find('div',class_=\"content_title\").text\n",
    "\n",
    "    news_p = Result.find('div',class_=\"article_teaser_body\").text\n",
    "\n",
    "    Mars_News_NASA = {'News_Title':news_title, 'News_Para': news_p }\n",
    "    \n",
    "    #print(Mars_News_NASA)\n",
    "    \n",
    "    return(Mars_News_NASA)"
   ]
  },
  {
   "cell_type": "code",
   "execution_count": 23,
   "metadata": {},
   "outputs": [
    {
     "name": "stdout",
     "output_type": "stream",
     "text": [
      "{'News_Title': 'Curiosity Surveys a Mystery Under Dusty Skies', 'News_Para': \"NASA's Curiosity rover surveyed its surroundings on Mars, producing a 360-degree panorama of its current location on Vera Rubin Ridge.\"}\n"
     ]
    }
   ],
   "source": [
    "print(scrape())"
   ]
  },
  {
   "cell_type": "code",
   "execution_count": 20,
   "metadata": {},
   "outputs": [],
   "source": [
    "def scrape2():\n",
    "    ### JPL Mars Space Images - Featured Image\n",
    "\n",
    "    browser = init_browser()\n",
    "\n",
    "    # Visit jpl NASA site for the featured image\n",
    "    url = 'https://www.jpl.nasa.gov/spaceimages/?search=&category=Mars'\n",
    "\n",
    "     # Using url attribute to access the visited page’s url\n",
    "    browser.visit(url)\n",
    "\n",
    "    MarsImageData = BeautifulSoup(browser.html,\"html.parser\")\n",
    "\n",
    "    # Quitting the browser \n",
    "    browser.quit()\n",
    "\n",
    "    Mars_Img_Art = MarsImageData.find_all('ul',class_='articles')\n",
    "    for all in Mars_Img_Art:\n",
    "        img = all.find_all('li',class_='slide')\n",
    "    for all in img:\n",
    "        if 'Mars' in (all.a['data-description'].split()):\n",
    "            image = all.a[\"data-fancybox-href\"]  \n",
    "\n",
    "    featured_image_url = 'https://www.jpl.nasa.gov'+ image\n",
    "\n",
    "    Mars_Featured_Image_NASA = {\"Featured_Image_Url\": featured_image_url }\n",
    "\n",
    "    return(Mars_Featured_Image_NASA)"
   ]
  },
  {
   "cell_type": "code",
   "execution_count": 21,
   "metadata": {
    "scrolled": false
   },
   "outputs": [
    {
     "data": {
      "text/plain": [
       "{'Featured_Image_Url': 'https://www.jpl.nasa.gov/spaceimages/images/largesize/PIA22612_hires.jpg'}"
      ]
     },
     "execution_count": 21,
     "metadata": {},
     "output_type": "execute_result"
    }
   ],
   "source": [
    "scrape2()"
   ]
  },
  {
   "cell_type": "code",
   "execution_count": 18,
   "metadata": {},
   "outputs": [],
   "source": [
    "def scrape3():\n",
    "\n",
    "    ### Mars Weather\n",
    "\n",
    "    # Target User Account\n",
    "    target_user = \"@MarsWxReport\"\n",
    "\n",
    "    # Get all tweets from home feed\n",
    "    public_tweets = api.user_timeline(target_user)\n",
    "\n",
    "    mars_weather = \"\"\n",
    "    flag = False\n",
    "\n",
    "    for tweet in public_tweets:\n",
    "        if flag == True:\n",
    "            mars_weather = tweet[\"text\"]\n",
    "            flag = False\n",
    "            break\n",
    "        else:  \n",
    "            if 'Sol' in tweet[\"text\"]:\n",
    "                flag = True\n",
    "\n",
    "    Mars_Weather_Twitter = {\"Mars_Twitter_Weather_News\":mars_weather}            \n",
    "    \n",
    "    return(Mars_Weather_Twitter)"
   ]
  },
  {
   "cell_type": "code",
   "execution_count": 19,
   "metadata": {},
   "outputs": [
    {
     "data": {
      "text/plain": [
       "{'Mars_Twitter_Weather_News': 'Sol 2160 (2018-09-03), high -8C/17F, low -68C/-90F, pressure at 8.85 hPa, daylight 05:36-17:52'}"
      ]
     },
     "execution_count": 19,
     "metadata": {},
     "output_type": "execute_result"
    }
   ],
   "source": [
    "scrape3()"
   ]
  },
  {
   "cell_type": "code",
   "execution_count": 15,
   "metadata": {},
   "outputs": [],
   "source": [
    "def scrape4():\n",
    "    ### Mars Facts\n",
    "\n",
    "    browser = init_browser()\n",
    "\n",
    "    url = 'http://space-facts.com/mars/'\n",
    "\n",
    "    browser.visit(url)\n",
    "\n",
    "    MarsFactsData = BeautifulSoup(browser.html,\"html.parser\")\n",
    "\n",
    "    browser.quit()\n",
    "\n",
    "    MarsFactsData.find_all('table')\n",
    "\n",
    "    Marstab = MarsFactsData.find_all('table')\n",
    "\n",
    "    df = pd.read_html(str(Marstab))\n",
    "\n",
    "    # print(df)\n",
    "\n",
    "    df=df[0].set_index([0])\n",
    "\n",
    "    df=df.rename(columns={1:\"Values\"})\n",
    "\n",
    "    df = df.to_html()\n",
    "\n",
    "    marsfactsdf = df\n",
    "\n",
    "    Mars_Facts_SpaceFacts = {\"Mars_Facts_Table\": marsfactsdf}\n",
    "\n",
    "    return(Mars_Facts_SpaceFacts)"
   ]
  },
  {
   "cell_type": "code",
   "execution_count": 16,
   "metadata": {},
   "outputs": [
    {
     "data": {
      "text/plain": [
       "{'Mars_Facts_Table': '<table border=\"1\" class=\"dataframe\">\\n  <thead>\\n    <tr style=\"text-align: right;\">\\n      <th></th>\\n      <th>Values</th>\\n    </tr>\\n    <tr>\\n      <th>0</th>\\n      <th></th>\\n    </tr>\\n  </thead>\\n  <tbody>\\n    <tr>\\n      <th>Equatorial Diameter:</th>\\n      <td>6,792 km</td>\\n    </tr>\\n    <tr>\\n      <th>Polar Diameter:</th>\\n      <td>6,752 km</td>\\n    </tr>\\n    <tr>\\n      <th>Mass:</th>\\n      <td>6.42 x 10^23 kg (10.7% Earth)</td>\\n    </tr>\\n    <tr>\\n      <th>Moons:</th>\\n      <td>2 (Phobos &amp; Deimos)</td>\\n    </tr>\\n    <tr>\\n      <th>Orbit Distance:</th>\\n      <td>227,943,824 km (1.52 AU)</td>\\n    </tr>\\n    <tr>\\n      <th>Orbit Period:</th>\\n      <td>687 days (1.9 years)</td>\\n    </tr>\\n    <tr>\\n      <th>Surface Temperature:</th>\\n      <td>-153 to 20 °C</td>\\n    </tr>\\n    <tr>\\n      <th>First Record:</th>\\n      <td>2nd millennium BC</td>\\n    </tr>\\n    <tr>\\n      <th>Recorded By:</th>\\n      <td>Egyptian astronomers</td>\\n    </tr>\\n  </tbody>\\n</table>'}"
      ]
     },
     "execution_count": 16,
     "metadata": {},
     "output_type": "execute_result"
    }
   ],
   "source": [
    "scrape4()"
   ]
  },
  {
   "cell_type": "code",
   "execution_count": 11,
   "metadata": {},
   "outputs": [],
   "source": [
    "def scrape5():\n",
    "\n",
    "    ### Mars Hemispheres\n",
    "\n",
    "    browser = init_browser()\n",
    "\n",
    "    url = 'https://astrogeology.usgs.gov/search/results?q=hemisphere+enhanced&k1=target&v1=Mars'\n",
    "\n",
    "    browser.visit(url)\n",
    "\n",
    "    html = browser.html\n",
    "\n",
    "    browser.quit()\n",
    "\n",
    "    MarsHemisphereImage = BeautifulSoup(html, \"html.parser\")\n",
    "\n",
    "    # print(MarsHemisphereImage.prettify())\n",
    "\n",
    "    Img4 = MarsHemisphereImage.find('div', class_='collapsible').find_all('a', class_='product-item')\n",
    "\n",
    "    index=0\n",
    "    img=[]\n",
    "    for item in Img4:\n",
    "        if index%2!=0:\n",
    "            it = {'title':item.find('h3').text,\n",
    "                 'href':item.get('href')}\n",
    "            img.append(it)\n",
    "        index = index+1\n",
    "    return(img)"
   ]
  },
  {
   "cell_type": "code",
   "execution_count": 13,
   "metadata": {},
   "outputs": [
    {
     "data": {
      "text/plain": [
       "[{'title': 'Cerberus Hemisphere Enhanced',\n",
       "  'href': '/search/map/Mars/Viking/cerberus_enhanced'},\n",
       " {'title': 'Schiaparelli Hemisphere Enhanced',\n",
       "  'href': '/search/map/Mars/Viking/schiaparelli_enhanced'},\n",
       " {'title': 'Syrtis Major Hemisphere Enhanced',\n",
       "  'href': '/search/map/Mars/Viking/syrtis_major_enhanced'},\n",
       " {'title': 'Valles Marineris Hemisphere Enhanced',\n",
       "  'href': '/search/map/Mars/Viking/valles_marineris_enhanced'}]"
      ]
     },
     "execution_count": 13,
     "metadata": {},
     "output_type": "execute_result"
    }
   ],
   "source": [
    "scrape5()"
   ]
  }
 ],
 "metadata": {
  "kernelspec": {
   "display_name": "Python 3",
   "language": "python",
   "name": "python3"
  },
  "language_info": {
   "codemirror_mode": {
    "name": "ipython",
    "version": 3
   },
   "file_extension": ".py",
   "mimetype": "text/x-python",
   "name": "python",
   "nbconvert_exporter": "python",
   "pygments_lexer": "ipython3",
   "version": "3.6.6"
  }
 },
 "nbformat": 4,
 "nbformat_minor": 2
}
