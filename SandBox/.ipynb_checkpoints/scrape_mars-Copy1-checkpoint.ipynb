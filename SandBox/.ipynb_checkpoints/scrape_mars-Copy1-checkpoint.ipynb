{
 "cells": [
  {
   "cell_type": "code",
   "execution_count": 2,
   "metadata": {},
   "outputs": [],
   "source": [
    "def scrape():\n",
    "\n",
    "    from bs4 import BeautifulSoup\n",
    "    from splinter import Browser\n",
    "\n",
    "    executable_path = {'executable_path': 'chromedriver.exe'}\n",
    "\n",
    "    # Initialize browser\n",
    "    browser = Browser('chrome', **executable_path, headless=False)\n",
    "\n",
    "    ### NASA Mars News\n",
    "    \n",
    "    NASA_Mars_News = {}\n",
    "\n",
    "    # Initialize browser\n",
    "#     browser = init_browser()\n",
    "    \n",
    "    #Visit the Mars Nasa site for news\n",
    "    url = 'https://mars.nasa.gov/news/'\n",
    "    \n",
    "    #Using url attribute to access the visited page’s url\n",
    "    browser.visit(url)\n",
    "\n",
    "    #Using the html attribute to get the html content of the visited page\n",
    "    html = browser.html\n",
    "    \n",
    "    #Quitting the browser \n",
    "    browser.quit()\n",
    "\n",
    "    MarsData = BeautifulSoup(html, \"html.parser\")\n",
    "\n",
    "    Result = MarsData.select_one('ul.item_list li.slide')\n",
    "\n",
    "    news_title = Result.find('div',class_=\"content_title\").text\n",
    "\n",
    "    news_p = Result.find('div',class_=\"article_teaser_body\").text\n",
    "\n",
    "    NASA_Mars_News = {'News_Title':news_title, 'News_Para': news_p }\n",
    "    \n",
    "    ### JPL Mars Space Images - Featured Image\n",
    "\n",
    "#     browser = init_browser()\n",
    "\n",
    "    # Visit jpl NASA site for the featured image\n",
    "    url = 'https://www.jpl.nasa.gov/spaceimages/?search=&category=Mars'\n",
    "\n",
    "     # Using url attribute to access the visited page’s url\n",
    "    browser.visit(url)\n",
    "\n",
    "    MarsImageData = BeautifulSoup(browser.html,\"html.parser\")\n",
    "\n",
    "    # Quitting the browser \n",
    "    browser.quit()\n",
    "\n",
    "    Mars_Img_Art = MarsImageData.find_all('ul',class_='articles')\n",
    "    for all in Mars_Img_Art:\n",
    "        img = all.find_all('li',class_='slide')\n",
    "    for all in img:\n",
    "        if 'Mars' in (all.a['data-description'].split()):\n",
    "            image = all.a[\"data-fancybox-href\"]  \n",
    "\n",
    "    featured_image_url = 'https://www.jpl.nasa.gov'+ image\n",
    "\n",
    "    Mars_Featured_Image_NASA = {\"Featured_Image_Url\": featured_image_url }\n",
    "\n",
    "    return(NASA_Mars_News)"
   ]
  },
  {
   "cell_type": "code",
   "execution_count": 3,
   "metadata": {},
   "outputs": [
    {
     "ename": "NameError",
     "evalue": "name 'init_browser' is not defined",
     "output_type": "error",
     "traceback": [
      "\u001b[1;31m---------------------------------------------------------------------------\u001b[0m",
      "\u001b[1;31mNameError\u001b[0m                                 Traceback (most recent call last)",
      "\u001b[1;32m<ipython-input-3-20ef00fd5394>\u001b[0m in \u001b[0;36m<module>\u001b[1;34m()\u001b[0m\n\u001b[1;32m----> 1\u001b[1;33m \u001b[0mscrape\u001b[0m\u001b[1;33m(\u001b[0m\u001b[1;33m)\u001b[0m\u001b[1;33m\u001b[0m\u001b[0m\n\u001b[0m",
      "\u001b[1;32m<ipython-input-2-de34e12a1baa>\u001b[0m in \u001b[0;36mscrape\u001b[1;34m()\u001b[0m\n\u001b[0;32m     14\u001b[0m \u001b[1;33m\u001b[0m\u001b[0m\n\u001b[0;32m     15\u001b[0m     \u001b[1;31m# Initialize browser\u001b[0m\u001b[1;33m\u001b[0m\u001b[1;33m\u001b[0m\u001b[0m\n\u001b[1;32m---> 16\u001b[1;33m     \u001b[0mbrowser\u001b[0m \u001b[1;33m=\u001b[0m \u001b[0minit_browser\u001b[0m\u001b[1;33m(\u001b[0m\u001b[1;33m)\u001b[0m\u001b[1;33m\u001b[0m\u001b[0m\n\u001b[0m\u001b[0;32m     17\u001b[0m \u001b[1;33m\u001b[0m\u001b[0m\n\u001b[0;32m     18\u001b[0m     \u001b[1;31m#Visit the Mars Nasa site for news\u001b[0m\u001b[1;33m\u001b[0m\u001b[1;33m\u001b[0m\u001b[0m\n",
      "\u001b[1;31mNameError\u001b[0m: name 'init_browser' is not defined"
     ]
    }
   ],
   "source": [
    "scrape()"
   ]
  },
  {
   "cell_type": "code",
   "execution_count": null,
   "metadata": {},
   "outputs": [],
   "source": []
  }
 ],
 "metadata": {
  "kernelspec": {
   "display_name": "Python 3",
   "language": "python",
   "name": "python3"
  },
  "language_info": {
   "codemirror_mode": {
    "name": "ipython",
    "version": 3
   },
   "file_extension": ".py",
   "mimetype": "text/x-python",
   "name": "python",
   "nbconvert_exporter": "python",
   "pygments_lexer": "ipython3",
   "version": "3.6.6"
  }
 },
 "nbformat": 4,
 "nbformat_minor": 2
}
