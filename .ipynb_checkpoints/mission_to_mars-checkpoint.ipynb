{
 "cells": [
  {
   "cell_type": "code",
   "execution_count": 42,
   "metadata": {},
   "outputs": [],
   "source": [
    "# Import Dependencies\n",
    "from splinter import Browser\n",
    "from bs4 import BeautifulSoup\n",
    "import pandas as pd"
   ]
  },
  {
   "cell_type": "code",
   "execution_count": 12,
   "metadata": {},
   "outputs": [],
   "source": [
    "import tweepy\n",
    "import json\n",
    "from config import (consumer_key, consumer_secret, \n",
    "                    access_token, access_token_secret)"
   ]
  },
  {
   "cell_type": "code",
   "execution_count": 13,
   "metadata": {},
   "outputs": [],
   "source": [
    "# Setup Tweepy API Authentication\n",
    "auth = tweepy.OAuthHandler(consumer_key, consumer_secret)\n",
    "auth.set_access_token(access_token, access_token_secret)\n",
    "api = tweepy.API(auth, parser=tweepy.parsers.JSONParser())"
   ]
  },
  {
   "cell_type": "code",
   "execution_count": 9,
   "metadata": {},
   "outputs": [],
   "source": [
    "def init_browser():\n",
    "    # @NOTE: Replace the path with your actual path to the chromedriver\n",
    "    executable_path = {\"executable_path\": \"chromedriver\"}\n",
    "    return Browser(\"chrome\", **executable_path, headless=False)"
   ]
  },
  {
   "cell_type": "code",
   "execution_count": 10,
   "metadata": {},
   "outputs": [],
   "source": [
    "def scrape():\n",
    "    # Initialize browser\n",
    "    browser = init_browser()\n",
    "    NASA_Mars_News = {}\n",
    "\n",
    "    ### NASA Mars News\n",
    "\n",
    "    # Visit the Mars Nasa site for news\n",
    "    url = 'https://mars.nasa.gov/news/'\n",
    "    \n",
    "    # Using url attribute to access the visited page’s url\n",
    "    browser.visit(url)\n",
    "\n",
    "    # Using the html attribute to get the html content of the visited page\n",
    "    html = browser.html\n",
    "    \n",
    "    # Quitting the browser \n",
    "    browser.quit()\n",
    "\n",
    "    MarsNewsData = BeautifulSoup(html, \"html.parser\")\n",
    "\n",
    "    Result = MarsNewsData.select_one('ul.item_list li.slide')\n",
    "\n",
    "    news_title = Result.find('div',class_=\"content_title\").text\n",
    "\n",
    "    news_p = Result.find('div',class_=\"article_teaser_body\").text\n",
    "\n",
    "    NASA_Mars_News = {'News_Title':news_title, 'News_Para': news_p }\n",
    "    \n",
    "    return(NASA_Mars_News)"
   ]
  },
  {
   "cell_type": "code",
   "execution_count": 11,
   "metadata": {},
   "outputs": [
    {
     "name": "stdout",
     "output_type": "stream",
     "text": [
      "https://www.jpl.nasa.gov/spaceimages/images/largesize/PIA22588_hires.jpg\n"
     ]
    }
   ],
   "source": [
    "def scrape2():\n",
    "    ### JPL Mars Space Images - Featured Image\n",
    "\n",
    "    browser = init_browser()\n",
    "\n",
    "    # Visit jpl NASA site for the featured image\n",
    "    url = 'https://www.jpl.nasa.gov/spaceimages/?search=&category=Mars'\n",
    "\n",
    "     # Using url attribute to access the visited page’s url\n",
    "    browser.visit(url)\n",
    "\n",
    "    MarsImageData = BeautifulSoup(browser.html,\"html.parser\")\n",
    "    \n",
    "    # Quitting the browser \n",
    "    browser.quit()\n",
    "\n",
    "    Mars_Img_Art = MarsImageData.find_all('ul',class_='articles')\n",
    "    for all in Mars_Img_Art:\n",
    "        img = all.find_all('li',class_='slide')\n",
    "    for all in img:\n",
    "        if 'Mars' in (all.a['data-description'].split()):\n",
    "            image = all.a[\"data-fancybox-href\"]  \n",
    "\n",
    "    featured_image_url = 'https://www.jpl.nasa.gov'+ image\n",
    "\n",
    "    return(featured_image_url)"
   ]
  },
  {
   "cell_type": "code",
   "execution_count": 26,
   "metadata": {},
   "outputs": [
    {
     "name": "stdout",
     "output_type": "stream",
     "text": [
      "Sol 2108 (2018-07-12), Sunny, high -24C/-11F, low -65C/-84F, pressure at 8.06 hPa, daylight 05:19-17:27\n"
     ]
    }
   ],
   "source": [
    "def scrape3():\n",
    "\n",
    "    ### Mars Weather\n",
    "\n",
    "    # Target User Account\n",
    "    target_user = \"@MarsWxReport\"\n",
    "\n",
    "    # Get all tweets from home feed\n",
    "    public_tweets = api.user_timeline(target_user)\n",
    "\n",
    "    flag = False\n",
    "\n",
    "    for tweet in public_tweets:\n",
    "        if flag == True:\n",
    "            print(tweet[\"text\"])\n",
    "            mars_weather = tweet[\"text\"]\n",
    "            #flag = False\n",
    "            break\n",
    "        else:    \n",
    "            if '@WeatherOnMars' in tweet[\"text\"]:\n",
    "                flag = True\n",
    "            else:\n",
    "                continue\n",
    "    return(mars_weather)"
   ]
  },
  {
   "cell_type": "code",
   "execution_count": 131,
   "metadata": {},
   "outputs": [],
   "source": [
    "def scrape4():\n",
    "    ### Mars Facts\n",
    "\n",
    "    browser = init_browser()\n",
    "\n",
    "    url = 'http://space-facts.com/mars/'\n",
    "\n",
    "    browser.visit(url)\n",
    "\n",
    "    MarsFactsData = BeautifulSoup(browser.html,\"html.parser\")\n",
    "\n",
    "    browser.quit()\n",
    "\n",
    "    #MarsFactsData.find_all('table')\n",
    "\n",
    "    Marstab = MarsFactsData.find_all('table')\n",
    "    \n",
    "    df = pd.read_html(str(Marstab))\n",
    "\n",
    "    #print(df[0].to_json(orient='records'))\n",
    "\n",
    "    marsfactsdf = df[0]\n",
    "\n",
    "    return(marsfactsdf)"
   ]
  },
  {
   "cell_type": "code",
   "execution_count": 132,
   "metadata": {},
   "outputs": [
    {
     "name": "stdout",
     "output_type": "stream",
     "text": [
      "                      0                              1\n",
      "0  Equatorial Diameter:                       6,792 km\n",
      "1       Polar Diameter:                       6,752 km\n",
      "2                 Mass:  6.42 x 10^23 kg (10.7% Earth)\n",
      "3                Moons:            2 (Phobos & Deimos)\n",
      "4       Orbit Distance:       227,943,824 km (1.52 AU)\n",
      "5         Orbit Period:           687 days (1.9 years)\n",
      "6  Surface Temperature:                  -153 to 20 °C\n",
      "7         First Record:              2nd millennium BC\n",
      "8          Recorded By:           Egyptian astronomers\n"
     ]
    }
   ],
   "source": [
    "x = scrape4()\n",
    "print(x)"
   ]
  },
  {
   "cell_type": "code",
   "execution_count": null,
   "metadata": {},
   "outputs": [],
   "source": []
  }
 ],
 "metadata": {
  "kernelspec": {
   "display_name": "Python 3",
   "language": "python",
   "name": "python3"
  },
  "language_info": {
   "codemirror_mode": {
    "name": "ipython",
    "version": 3
   },
   "file_extension": ".py",
   "mimetype": "text/x-python",
   "name": "python",
   "nbconvert_exporter": "python",
   "pygments_lexer": "ipython3",
   "version": "3.6.6"
  }
 },
 "nbformat": 4,
 "nbformat_minor": 2
}
