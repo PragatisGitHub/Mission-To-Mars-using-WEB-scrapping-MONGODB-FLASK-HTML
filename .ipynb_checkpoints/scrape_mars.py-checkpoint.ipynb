{
 "cells": [
  {
   "cell_type": "code",
   "execution_count": 4,
   "metadata": {},
   "outputs": [],
   "source": [
    "def scrape():\n",
    "\n",
    "    from bs4 import BeautifulSoup\n",
    "    from splinter import Browser\n",
    "\n",
    "    executable_path = {'executable_path': 'chromedriver.exe'}\n",
    "\n",
    "    # Initialize browser\n",
    "    browser = Browser('chrome', **executable_path, headless=False)\n",
    "\n",
    "    ### NASA Mars News\n",
    "\n",
    "    #Visit the Mars Nasa site for news\n",
    "    url = 'https://mars.nasa.gov/news/'\n",
    "    browser.visit(url)\n",
    "\n",
    "    #Instantiate html\n",
    "    html = browser.html\n",
    "\n",
    "    MarsData = BeautifulSoup(html, \"html.parser\")\n",
    "\n",
    "    Result = MarsData.select_one('ul.item_list li.slide')\n",
    "    #print(type(Result))\n",
    "    \n",
    "    browser.quit()\n",
    "\n",
    "    news_title = Result.find('div',class_=\"content_title\").text\n",
    "\n",
    "    news_p = Result.find('div',class_=\"article_teaser_body\").text\n",
    "\n",
    "    #print(f'news_title = {news_title}: \\nnews_p = {news_p}')\n",
    "\n",
    "    NASA_Mars_News = {'News_Title':news_title, 'News_Para': news_p }\n",
    "    \n",
    "    return(NASA_Mars_News)"
   ]
  },
  {
   "cell_type": "code",
   "execution_count": 5,
   "metadata": {},
   "outputs": [
    {
     "data": {
      "text/plain": [
       "{'News_Title': \"Meet the People Behind NASA's InSight Mars Lander\",\n",
       " 'News_Para': 'A series of NASA videos highlight scientists and engineers leading the next mission to Mars.'}"
      ]
     },
     "execution_count": 5,
     "metadata": {},
     "output_type": "execute_result"
    }
   ],
   "source": [
    "scrape()"
   ]
  },
  {
   "cell_type": "code",
   "execution_count": null,
   "metadata": {},
   "outputs": [],
   "source": []
  }
 ],
 "metadata": {
  "kernelspec": {
   "display_name": "Python 3",
   "language": "python",
   "name": "python3"
  },
  "language_info": {
   "codemirror_mode": {
    "name": "ipython",
    "version": 3
   },
   "file_extension": ".py",
   "mimetype": "text/x-python",
   "name": "python",
   "nbconvert_exporter": "python",
   "pygments_lexer": "ipython3",
   "version": "3.6.6"
  }
 },
 "nbformat": 4,
 "nbformat_minor": 2
}
